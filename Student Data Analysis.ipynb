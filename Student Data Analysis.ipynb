{
    "cells": [
        {
            "cell_type": "markdown",
            "metadata": {},
            "source": "# Description\n\n#### This notebook analyzes and visualizes student data"
        },
        {
            "cell_type": "code",
            "execution_count": 1,
            "metadata": {},
            "outputs": [
                {
                    "data": {
                        "text/html": "<div>\n<style scoped>\n    .dataframe tbody tr th:only-of-type {\n        vertical-align: middle;\n    }\n\n    .dataframe tbody tr th {\n        vertical-align: top;\n    }\n\n    .dataframe thead th {\n        text-align: right;\n    }\n</style>\n<table border=\"1\" class=\"dataframe\">\n  <thead>\n    <tr style=\"text-align: right;\">\n      <th></th>\n      <th>id</th>\n      <th>first_name</th>\n      <th>last_name</th>\n      <th>date_of_birth</th>\n      <th>ethnicity</th>\n      <th>gender</th>\n      <th>status</th>\n      <th>entry_academic_period</th>\n      <th>exclusion_type</th>\n      <th>act_composite</th>\n      <th>...</th>\n      <th>sat_reading</th>\n      <th>hs_gpa</th>\n      <th>hs_city</th>\n      <th>hs_state</th>\n      <th>hs_zip</th>\n      <th>email</th>\n      <th>entry_age</th>\n      <th>ged</th>\n      <th>english_2nd_language</th>\n      <th>first_generation</th>\n    </tr>\n  </thead>\n  <tbody>\n    <tr>\n      <th>0</th>\n      <td>111111.0</td>\n      <td>John</td>\n      <td>Doe</td>\n      <td>01/2000</td>\n      <td>Hispanic</td>\n      <td>M</td>\n      <td>FT</td>\n      <td>Fall 2008</td>\n      <td>NaN</td>\n      <td>NaN</td>\n      <td>...</td>\n      <td>NaN</td>\n      <td>2.71</td>\n      <td>Albuquerque</td>\n      <td>New Mexico</td>\n      <td>87112.0</td>\n      <td>jdoe@example.com</td>\n      <td>17.9</td>\n      <td>False</td>\n      <td>False</td>\n      <td>True</td>\n    </tr>\n    <tr>\n      <th>1</th>\n      <td>111112.0</td>\n      <td>Jane</td>\n      <td>Smith</td>\n      <td>05/2001</td>\n      <td>Hispanic</td>\n      <td>F</td>\n      <td>TRANSFER</td>\n      <td>Fall 2006</td>\n      <td>NaN</td>\n      <td>NaN</td>\n      <td>...</td>\n      <td>NaN</td>\n      <td>3.73</td>\n      <td>New York</td>\n      <td>New York</td>\n      <td>10009.0</td>\n      <td>jsmith@example.com</td>\n      <td>18.1</td>\n      <td>False</td>\n      <td>False</td>\n      <td>True</td>\n    </tr>\n    <tr>\n      <th>2</th>\n      <td>111113.0</td>\n      <td>Sarah</td>\n      <td>Thomas</td>\n      <td>21/2002</td>\n      <td>Hispanic</td>\n      <td>M</td>\n      <td>FTFT</td>\n      <td>Fall 2006</td>\n      <td>NaN</td>\n      <td>14.0</td>\n      <td>...</td>\n      <td>NaN</td>\n      <td>2.64</td>\n      <td>Pheonix</td>\n      <td>Arizona</td>\n      <td>85006.0</td>\n      <td>sthomas@example.com</td>\n      <td>17.6</td>\n      <td>False</td>\n      <td>False</td>\n      <td>False</td>\n    </tr>\n    <tr>\n      <th>3</th>\n      <td>111114.0</td>\n      <td>Frank</td>\n      <td>Brown</td>\n      <td>13/2002</td>\n      <td>Race/ethnicity unknown</td>\n      <td>M</td>\n      <td>FTFT</td>\n      <td>Fall 2006</td>\n      <td>NaN</td>\n      <td>NaN</td>\n      <td>...</td>\n      <td>210.0</td>\n      <td>3.68</td>\n      <td>Pheonix</td>\n      <td>Arizona</td>\n      <td>85015.0</td>\n      <td>fbrown@example.com</td>\n      <td>19.0</td>\n      <td>True</td>\n      <td>False</td>\n      <td>True</td>\n    </tr>\n    <tr>\n      <th>4</th>\n      <td>111115.0</td>\n      <td>Mike</td>\n      <td>Davis</td>\n      <td>31/2001</td>\n      <td>White</td>\n      <td>F</td>\n      <td>FTFT</td>\n      <td>Fall 2007</td>\n      <td>NaN</td>\n      <td>22.0</td>\n      <td>...</td>\n      <td>NaN</td>\n      <td>3.46</td>\n      <td>Seattle</td>\n      <td>Washington</td>\n      <td>98106.0</td>\n      <td>mdavis@example.com</td>\n      <td>18.2</td>\n      <td>False</td>\n      <td>True</td>\n      <td>False</td>\n    </tr>\n  </tbody>\n</table>\n<p>5 rows \u00d7 26 columns</p>\n</div>",
                        "text/plain": "         id first_name last_name date_of_birth               ethnicity gender  \\\n0  111111.0       John       Doe       01/2000                Hispanic      M   \n1  111112.0       Jane     Smith       05/2001                Hispanic      F   \n2  111113.0      Sarah    Thomas       21/2002                Hispanic      M   \n3  111114.0      Frank     Brown       13/2002  Race/ethnicity unknown      M   \n4  111115.0       Mike     Davis       31/2001                   White      F   \n\n     status entry_academic_period  exclusion_type  act_composite  ...  \\\n0        FT             Fall 2008             NaN            NaN  ...   \n1  TRANSFER             Fall 2006             NaN            NaN  ...   \n2      FTFT             Fall 2006             NaN           14.0  ...   \n3      FTFT             Fall 2006             NaN            NaN  ...   \n4      FTFT             Fall 2007             NaN           22.0  ...   \n\n   sat_reading hs_gpa      hs_city    hs_state   hs_zip                email  \\\n0          NaN   2.71  Albuquerque  New Mexico  87112.0     jdoe@example.com   \n1          NaN   3.73     New York    New York  10009.0   jsmith@example.com   \n2          NaN   2.64      Pheonix     Arizona  85006.0  sthomas@example.com   \n3        210.0   3.68      Pheonix     Arizona  85015.0   fbrown@example.com   \n4          NaN   3.46      Seattle  Washington  98106.0   mdavis@example.com   \n\n   entry_age    ged english_2nd_language first_generation  \n0       17.9  False                False             True  \n1       18.1  False                False             True  \n2       17.6  False                False            False  \n3       19.0   True                False             True  \n4       18.2  False                 True            False  \n\n[5 rows x 26 columns]"
                    },
                    "execution_count": 1,
                    "metadata": {},
                    "output_type": "execute_result"
                }
            ],
            "source": "# The code was removed by Watson Studio for sharing."
        },
        {
            "cell_type": "code",
            "execution_count": null,
            "metadata": {},
            "outputs": [],
            "source": ""
        }
    ],
    "metadata": {
        "kernelspec": {
            "display_name": "Python 3.9",
            "language": "python",
            "name": "python3"
        },
        "language_info": {
            "codemirror_mode": {
                "name": "ipython",
                "version": 3
            },
            "file_extension": ".py",
            "mimetype": "text/x-python",
            "name": "python",
            "nbconvert_exporter": "python",
            "pygments_lexer": "ipython3",
            "version": "3.9.12"
        }
    },
    "nbformat": 4,
    "nbformat_minor": 1
}